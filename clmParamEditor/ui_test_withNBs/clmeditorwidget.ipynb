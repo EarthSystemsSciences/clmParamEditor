{
 "cells": [
  {
   "cell_type": "code",
   "execution_count": 3,
   "id": "7de39047-ad00-4470-b484-6bc6b7f9166f",
   "metadata": {},
   "outputs": [
    {
     "name": "stdout",
     "output_type": "stream",
     "text": [
      "File: ./data/clm_params_files/clm_params_c180312.nc does not exist!\n"
     ]
    },
    {
     "data": {
      "application/vnd.jupyter.widget-view+json": {
       "model_id": "1b76614856f543a997abccd1350e548f",
       "version_major": 2,
       "version_minor": 0
      },
      "text/plain": [
       "EditCLMParamWidget(username='qzhang')"
      ]
     },
     "execution_count": 3,
     "metadata": {},
     "output_type": "execute_result"
    }
   ],
   "source": [
    "from clmParamEditor import edit_clm_params\n",
    "edit_clm_params.EditCLMParamWidget()"
   ]
  },
  {
   "cell_type": "code",
   "execution_count": 4,
   "id": "c7605fe9-588f-4994-b4e9-a28bbb379001",
   "metadata": {},
   "outputs": [
    {
     "name": "stdout",
     "output_type": "stream",
     "text": [
      "[0.    0.01  0.008 0.024 0.012 0.012 0.03  0.03  0.03  0.012 0.03  0.03\n",
      " 0.03  0.03  0.03  0.03  0.03  0.05  0.05  0.07  0.07  0.07  0.07  0.07\n",
      " 0.07 ]\n",
      "[0.     0.0509 0.042  0.07   0.058  0.0515 0.0716 0.1007 8.     0.0517\n",
      " 0.12   0.1365 0.1365 0.1    0.058  0.1    0.1758 0.293  0.293  0.4102\n",
      " 0.4102 0.4102 0.4102 0.4102 0.4102]\n",
      "[ 1. 42. 42. 42. 42. 42. 42. 42.  8. 42. 42. 42. 42. 42. 42. 42. 42. 42.\n",
      " 42. 42. 42. 42. 42. 42. 42.]\n",
      "[0.    1.    1.    0.5   0.794 1.    1.    1.    1.    2.    1.    2.\n",
      " 2.    2.    2.    2.    2.    2.    2.    2.    2.    2.    2.    2.\n",
      " 2.   ]\n",
      "[ 1. 35. 40. 25. 30. 30. 25. 25. 25. 30. 25. 25. 25. 25. 25. 25. 25. 25.\n",
      " 25. 25. 25. 25. 25. 25. 25.]\n",
      "0.05\n"
     ]
    }
   ],
   "source": [
    "import netCDF4\n",
    "clmdt = netCDF4.Dataset('data/clm_params_files/new_clm_file.nc')\n",
    "\n",
    "slatop = clmdt.variables['slatop'][:]\n",
    "flnr = clmdt.variables['flnr'][:]\n",
    "frootcn = clmdt.variables['frootcn'][:]\n",
    "froot_leaf = clmdt.variables['froot_leaf'][:]\n",
    "leafcn = clmdt.variables['leafcn'][:]\n",
    "r_mort = clmdt.variables['r_mort'][:][0]\n",
    "print(slatop)\n",
    "print(flnr)\n",
    "print(frootcn)\n",
    "print(froot_leaf)\n",
    "print(leafcn)\n",
    "print(str(r_mort))\n",
    "clmdt.close()"
   ]
  },
  {
   "cell_type": "code",
   "execution_count": null,
   "id": "d0326f56-dd0a-4c97-b004-bcb4c8e3c1c0",
   "metadata": {},
   "outputs": [],
   "source": []
  }
 ],
 "metadata": {
  "kernelspec": {
   "display_name": "Python 3 (ipykernel)",
   "language": "python",
   "name": "python3"
  },
  "language_info": {
   "codemirror_mode": {
    "name": "ipython",
    "version": 3
   },
   "file_extension": ".py",
   "mimetype": "text/x-python",
   "name": "python",
   "nbconvert_exporter": "python",
   "pygments_lexer": "ipython3",
   "version": "3.11.0"
  }
 },
 "nbformat": 4,
 "nbformat_minor": 5
}
