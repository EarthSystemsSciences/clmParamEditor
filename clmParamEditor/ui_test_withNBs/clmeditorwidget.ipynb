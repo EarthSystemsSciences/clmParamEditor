{
 "cells": [
  {
   "cell_type": "code",
   "execution_count": 1,
   "id": "c0c51908-1332-430e-846b-55dbdba77c66",
   "metadata": {},
   "outputs": [
    {
     "ename": "ModuleNotFoundError",
     "evalue": "No module named 'xarray'",
     "output_type": "error",
     "traceback": [
      "\u001b[0;31m---------------------------------------------------------------------------\u001b[0m",
      "\u001b[0;31mModuleNotFoundError\u001b[0m                       Traceback (most recent call last)",
      "Cell \u001b[0;32mIn[1], line 1\u001b[0m\n\u001b[0;32m----> 1\u001b[0m \u001b[38;5;28;01mimport\u001b[39;00m \u001b[38;5;21;01mclmParamEditor\u001b[39;00m \u001b[38;5;28;01mas\u001b[39;00m \u001b[38;5;21;01mclm_editor\u001b[39;00m\n\u001b[1;32m      2\u001b[0m edit_clm \u001b[38;5;241m=\u001b[39m clm_editor\u001b[38;5;241m.\u001b[39mEditCLMParamWidget()\n\u001b[1;32m      3\u001b[0m edit_clm\n",
      "File \u001b[0;32m/homes/qzhang/jupyter/jpl_apps/CustomWidgets/clmParamEditor/clmParamEditor/__init__.py:7\u001b[0m\n\u001b[1;32m      1\u001b[0m \u001b[38;5;66;03m#!/usr/bin/env python\u001b[39;00m\n\u001b[1;32m      2\u001b[0m \u001b[38;5;66;03m# coding: utf-8\u001b[39;00m\n\u001b[1;32m      3\u001b[0m \n\u001b[1;32m      4\u001b[0m \u001b[38;5;66;03m# Copyright (c) qzhang.\u001b[39;00m\n\u001b[1;32m      5\u001b[0m \u001b[38;5;66;03m# Distributed under the terms of the Modified BSD License.\u001b[39;00m\n\u001b[0;32m----> 7\u001b[0m \u001b[38;5;28;01mfrom\u001b[39;00m \u001b[38;5;21;01m.\u001b[39;00m\u001b[38;5;21;01medit_clm_params\u001b[39;00m \u001b[38;5;28;01mimport\u001b[39;00m EditCLMParamWidget\n\u001b[1;32m      8\u001b[0m \u001b[38;5;28;01mfrom\u001b[39;00m \u001b[38;5;21;01m.\u001b[39;00m\u001b[38;5;21;01m_version\u001b[39;00m \u001b[38;5;28;01mimport\u001b[39;00m __version__, version_info\n\u001b[1;32m     10\u001b[0m \u001b[38;5;28;01mdef\u001b[39;00m \u001b[38;5;21m_jupyter_labextension_paths\u001b[39m():\n",
      "File \u001b[0;32m/homes/qzhang/jupyter/jpl_apps/CustomWidgets/clmParamEditor/clmParamEditor/edit_clm_params.py:19\u001b[0m\n\u001b[1;32m     17\u001b[0m \u001b[38;5;28;01mimport\u001b[39;00m \u001b[38;5;21;01mos\u001b[39;00m\n\u001b[1;32m     18\u001b[0m \u001b[38;5;28;01mimport\u001b[39;00m \u001b[38;5;21;01mgetpass\u001b[39;00m\n\u001b[0;32m---> 19\u001b[0m \u001b[38;5;28;01mimport\u001b[39;00m \u001b[38;5;21;01mxarray\u001b[39;00m \u001b[38;5;28;01mas\u001b[39;00m \u001b[38;5;21;01mxr\u001b[39;00m\n\u001b[1;32m     22\u001b[0m \u001b[38;5;28;01mclass\u001b[39;00m \u001b[38;5;21;01mEditCLMParamWidget\u001b[39;00m(DOMWidget, HasTraits):\n\u001b[1;32m     23\u001b[0m \u001b[38;5;250m    \u001b[39m\u001b[38;5;124;03m\"\"\"TODO: Add docstring here\u001b[39;00m\n\u001b[1;32m     24\u001b[0m \u001b[38;5;124;03m    \"\"\"\u001b[39;00m\n",
      "\u001b[0;31mModuleNotFoundError\u001b[0m: No module named 'xarray'"
     ]
    }
   ],
   "source": [
    "import clmParamEditor as clm_editor\n",
    "edit_clm = clm_editor.EditCLMParamWidget()\n",
    "edit_clm"
   ]
  },
  {
   "cell_type": "code",
   "execution_count": 3,
   "id": "c7605fe9-588f-4994-b4e9-a28bbb379001",
   "metadata": {},
   "outputs": [
    {
     "name": "stdout",
     "output_type": "stream",
     "text": [
      "[0.    1.    2.    0.024 0.012 0.012 0.03  0.03  0.03  0.012 0.03  0.03\n",
      " 0.03  0.03  0.03  0.03  0.03  0.05  0.05  0.07  0.07  0.07  0.07  0.07\n",
      " 0.07 ]\n",
      "[0.     1.     2.     0.07   0.058  0.0515 0.0716 0.1007 0.1007 0.0517\n",
      " 0.12   0.1365 0.1365 0.1    0.058  0.1    0.1758 0.293  0.293  0.4102\n",
      " 0.4102 0.4102 0.4102 0.4102 0.4102]\n",
      "[ 1.  1.  2. 42. 42. 42. 42. 42. 42. 42. 42. 42. 42. 42. 42. 42. 42. 42.\n",
      " 42. 42. 42. 42. 42. 42. 42.]\n",
      "[0.    1.    2.    0.5   0.794 1.    1.    1.    1.    2.    1.    2.\n",
      " 2.    2.    2.    2.    2.    2.    2.    2.    2.    2.    2.    2.\n",
      " 2.   ]\n",
      "[ 1.  1.  2. 25. 30. 30. 25. 25. 25. 30. 25. 25. 25. 25. 25. 25. 25. 25.\n",
      " 25. 25. 25. 25. 25. 25. 25.]\n",
      "0.05\n"
     ]
    }
   ],
   "source": [
    "import netCDF4\n",
    "clmdt = netCDF4.Dataset('data/clm_params_files/new_clm_file.nc')\n",
    "\n",
    "slatop = clmdt.variables['slatop'][:]\n",
    "flnr = clmdt.variables['flnr'][:]\n",
    "frootcn = clmdt.variables['frootcn'][:]\n",
    "froot_leaf = clmdt.variables['froot_leaf'][:]\n",
    "leafcn = clmdt.variables['leafcn'][:]\n",
    "r_mort = clmdt.variables['r_mort'][:][0]\n",
    "print(slatop)\n",
    "print(flnr)\n",
    "print(frootcn)\n",
    "print(froot_leaf)\n",
    "print(leafcn)\n",
    "print(str(r_mort))\n",
    "clmdt.close()"
   ]
  },
  {
   "cell_type": "code",
   "execution_count": null,
   "id": "d0326f56-dd0a-4c97-b004-bcb4c8e3c1c0",
   "metadata": {},
   "outputs": [],
   "source": []
  }
 ],
 "metadata": {
  "kernelspec": {
   "display_name": "Python 3 (ipykernel)",
   "language": "python",
   "name": "python3"
  },
  "language_info": {
   "codemirror_mode": {
    "name": "ipython",
    "version": 3
   },
   "file_extension": ".py",
   "mimetype": "text/x-python",
   "name": "python",
   "nbconvert_exporter": "python",
   "pygments_lexer": "ipython3",
   "version": "3.11.0"
  }
 },
 "nbformat": 4,
 "nbformat_minor": 5
}
