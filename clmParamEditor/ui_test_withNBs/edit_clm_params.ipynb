{
 "cells": [
  {
   "cell_type": "code",
   "execution_count": 4,
   "id": "db72dccf-6171-416d-9ca2-5ee883493035",
   "metadata": {},
   "outputs": [
    {
     "data": {
      "application/vnd.jupyter.widget-view+json": {
       "model_id": "e4016637a9bb413ba1b1c69055d101f3",
       "version_major": 2,
       "version_minor": 0
      },
      "text/plain": [
       "EditCLMParamWidget(flnr=[0.0, 0.0509, 0.042, 0.07, 0.058, 0.0515, 0.0716, 0.1007, 0.1007, 0.0517, 0.12, 0.1365…"
      ]
     },
     "execution_count": 4,
     "metadata": {},
     "output_type": "execute_result"
    }
   ],
   "source": [
    "from clmParamEditor import edit_clm_params\n",
    "edit_clm_params.EditCLMParamWidget()"
   ]
  },
  {
   "cell_type": "code",
   "execution_count": null,
   "id": "45d2da4c-f7c6-47ab-bc72-c4896bd6d943",
   "metadata": {},
   "outputs": [],
   "source": []
  }
 ],
 "metadata": {
  "kernelspec": {
   "display_name": "Python 3 (ipykernel)",
   "language": "python",
   "name": "python3"
  },
  "language_info": {
   "codemirror_mode": {
    "name": "ipython",
    "version": 3
   },
   "file_extension": ".py",
   "mimetype": "text/x-python",
   "name": "python",
   "nbconvert_exporter": "python",
   "pygments_lexer": "ipython3",
   "version": "3.11.3"
  }
 },
 "nbformat": 4,
 "nbformat_minor": 5
}
