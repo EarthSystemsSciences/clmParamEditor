{
 "cells": [
  {
   "cell_type": "code",
   "execution_count": 2,
   "id": "db72dccf-6171-416d-9ca2-5ee883493035",
   "metadata": {},
   "outputs": [
    {
     "data": {
      "application/vnd.jupyter.widget-view+json": {
       "model_id": "c1a96c961ac649bca532cdd60f2bd36b",
       "version_major": 2,
       "version_minor": 0
      },
      "text/plain": [
       "EditCLMParamWidget()"
      ]
     },
     "execution_count": 2,
     "metadata": {},
     "output_type": "execute_result"
    }
   ],
   "source": [
    "import clmParamEditor as clm_editor\n",
    "edit_clm = clm_editor.EditCLMParamWidget()\n",
    "edit_clm"
   ]
  },
  {
   "cell_type": "code",
   "execution_count": null,
   "id": "45d2da4c-f7c6-47ab-bc72-c4896bd6d943",
   "metadata": {},
   "outputs": [],
   "source": []
  }
 ],
 "metadata": {
  "kernelspec": {
   "display_name": "Python 3 (ipykernel)",
   "language": "python",
   "name": "python3"
  },
  "language_info": {
   "codemirror_mode": {
    "name": "ipython",
    "version": 3
   },
   "file_extension": ".py",
   "mimetype": "text/x-python",
   "name": "python",
   "nbconvert_exporter": "python",
   "pygments_lexer": "ipython3",
   "version": "3.11.3"
  }
 },
 "nbformat": 4,
 "nbformat_minor": 5
}
