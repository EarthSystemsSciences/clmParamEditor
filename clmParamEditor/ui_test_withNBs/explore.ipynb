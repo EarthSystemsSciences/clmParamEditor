{
 "cells": [
  {
   "cell_type": "code",
   "execution_count": 1,
   "id": "6a95d0bd-148f-4ff3-9926-c941c8b2ae04",
   "metadata": {},
   "outputs": [
    {
     "data": {
      "application/vnd.jupyter.widget-view+json": {
       "model_id": "9603dc9efde341a5ae8ba9b0f5357c5b",
       "version_major": 2,
       "version_minor": 0
      },
      "text/plain": [
       "EditCLMParamWidget()"
      ]
     },
     "execution_count": 1,
     "metadata": {},
     "output_type": "execute_result"
    }
   ],
   "source": [
    "import clmParamEditor as clm_editor\n",
    "edit_clm = clm_editor.EditCLMParamWidget()\n",
    "edit_clm"
   ]
  },
  {
   "cell_type": "code",
   "execution_count": 7,
   "id": "6020ab83-3b00-4ca4-bcaf-42f3b8d0b845",
   "metadata": {},
   "outputs": [],
   "source": [
    "import numpy as np\n",
    "import numpy.ma as ma\n",
    "import netCDF4\n",
    "clmdt = netCDF4.Dataset('data/clm_params_files/clm_params_c211124.nc')"
   ]
  },
  {
   "cell_type": "code",
   "execution_count": 4,
   "id": "2ea62b61-eebe-41e1-96ea-2037a60728be",
   "metadata": {},
   "outputs": [
    {
     "name": "stdout",
     "output_type": "stream",
     "text": [
      "dict_keys(['pftname', 'decompmicc_patch_vr', 'roota_par', 'cpha', 'pftpar28', 'kcha', 'woody', 'pftpar30', 'pftpar31', 'cc_other', 'graincp', 'fm_dstem', 'c3psn', 'bfact', 'baset', 'fleafcn', 'pftnum', 'graincn', 'croot_stem', 'presharv', 'smpsc', 'declfact', 'KM_PLANT_NO3', 'cc_lstem', 'allconsl', 'dsladlai', 'smpso', 'tpuhd', 'frootcn_obs', 'pftpar29', 'tpuha', 'gddmin', 'convfact', 'pftpar20', 'froot_leaf', 'rholnir', 'fyield', 'qe', 'KM_PLANT_NH4', 'slatop', 'root_dmx', 'fsr_pft', 'evergreen', 'ztopmx', 'fstemcn', 'lflitcp', 's_vc', 'crop', 'fr_fcel', 'grnfill', 'lflitcn', 'bbbopt', 'arooti', 'nstor', 'fcur', 'fm_leaf', 'stress_decid', 'arootf', 'pprod100', 'fm_droot', 'theta_cj', 'aleaff', 'leafcn_obs', 'fd_pft', 'min_planting_temp', 'flivewd', 'fm_lroot', 'lmrse', 'grperc', 'fnr', 'vcmaxhd', 'livewdcp', 'vcmaxha', 'livewdcn', 'fm_lstem', 'i_vc', 'lf_flig', 'taulnir', 'xl', 'dleaf', 'livewdcn_obs', 'max_NH_planting_date', 'lf_fcel', 'KM_PLANT_P', 'froot_long', 'leafcn', 'rhosvis', 'flnr', 'grpnow', 'season_decid', 'leafcp', 'tausvis', 'planting_temp', 'br_xr', 'fr_flab', 'frootcp', 'mbbopt', 'rholvis', 'z0mr', 'frootcn', 'max_SH_planting_date', 'fr_flig', 'lf_flab', 'astemf', 'VMAX_PLANT_P', 'livewdcp_obs', 'min_SH_planting_date', 'displar', 'act25', 'ffrootcn', 'laimx', 'mxmat', 'koha', 'fm_other', 'VMAX_PLANT_NH4', 'pconv', 'deadwdcp_obs', 'rootb_par', 'mxtmp', 'tausnir', 'deadwdcn', 'frootcp_obs', 'min_NH_planting_date', 'cc_leaf', 'rootprof_beta', 'deadwdcn_obs', 'leafcp_obs', 'stem_leaf', 'fleafi', 'leaf_long', 'cc_dstem', 'pprod10', 'irrigated', 'jmaxhd', 'deadwdcp', 'jmaxha', 'rhosnir', 'fm_root', 'VMAX_PLANT_NO3', 'pprodharv10', 'lfemerg', 'hybgdd', 'taulvis', 'fertnitro', 'lmrhd', 'fcurdv', 'lmrha', 'fnitr', 'allconss', 'KM_MINSURF_P_vr', 'VMAX_MINSURF_P_vr', 'VMAX_PTASE_vr', 'cryoturb_diffusion_k', 'oxinhib', 'pHmax', 'q10_hr', 'rob', 'tau_l1', 'cn_s3_bgc', 'lwtop_ann', 'organic_max', 'k_m_unsat', 'rf_l3s3', 'rf_s1s2', 'KM_DECOMP_NH4', 'KM_DECOMP_P', 'gddfunc_p1', 'compet_decomp_nh4', 'q10_ch4oxid', 'fstor2tran', 'vgc_max', 'crit_onset_swi', 'dnp', 'KM_DECOMP_NO3', 'k_s2', 'k_s1', 'pHmin', 'redoxlag_vertical', 'max_altdepth_cryoturbation', 'KM_PTASE', 'cn_s1_bgc', 'k_nitr_max', 'rf_s3s4', 'crit_offset_swi', 'q10_mr', 'f_sat', 'lamda_ptase', 'redoxlag', 'rf_s2s1_bgc', 'rf_l2s1_bgc', 'tau_s2', 'tau_s3', 'tau_s1', 'k_s4', 'porosmin', 'soilpsi_off', 'compet_denit', 'me_herb', 'cn_s2', 'cn_s3', 'cn_s1', 'cn_s4', 'cwd_flig', 'minfuel', 'r_mort', 'rf_s3s1_bgc', 'KM_NIT', 'KM_NFIX', 'depth_runoff_Nloss', 'soilpsi_on', 'qflxlagd', 'cn_s2_bgc', 'rf_s2s3_bgc', 'atmch4', 'smp_crit', 'k_mort', 'crit_offset_fdd', 'crit_dayl', 'compet_decomp_no3', 'rf_s2s3', 'cnscalefactor', 'sf_no3', 'VMAX_NFIX', 'rf_l3s2_bgc', 'compet_plant_nh4', 'nongrassporosratio', 'rc_npool', 'rij_kro_alpha', 'vmax_ch4_oxid', 'rf_l2s2', 'capthick', 'np_s2_new', 'decomp_depth_efolding', 'som_diffus', 'satpow', 'sf_minn', 'rij_kro_a', 'tau_l2_l3', 'crit_onset_fdd', 'dayscrecover', 'rij_kro_gamma', 'minpsi_hr', 'rf_cwdl2_bgc', 'rij_kro_delta', 'max_altmultiplier_cryoturb', 'crit_onset_gdd', 'rf_cwdl3_bgc', 'rij_kro_beta', 'k_m', 'cumprec_onset', 'q10lakebase', 'lake_decomp_fact', 'rsub_top_globalmax', 'bdnr', 'np_s4_new', 'tau_cwd', 'KM_DEN', 'rootlitfrac', 'scale_factor_gasdiff', 'compet_nit', 'np_s3_new', 'surface_tension_water', 'crit_dayl_stress', 'wcf', 'k_l3', 'br_mr', 'ef_time', 'compet_plant_no3', 'rf_l1s1_bgc', 'k_s3', 'k_m_o2', 'q10ch4', 'k_l2', 'scale_factor_aere', 'k_l1', 'rf_l1s1', 'np_s1_new', 'highlatfact', 'shape_fluxprof_param1', 'k_frag', 'tc_stress', 'me_woody', 'froz_q10', 'f_ch4', 'gddfunc_p2', 'unsat_aere_ratio', 'vmax_oxid_unsat', 'ndays_on', 'ndays_off', 'scale_factor_liqdiff', 'cwd_fcel', 'mino2lim', 'q10ch4base', 'aereoxid'])\n"
     ]
    }
   ],
   "source": [
    "print(clmdt.variables.keys())"
   ]
  },
  {
   "cell_type": "code",
   "execution_count": 8,
   "id": "5869cc3c-ddab-40c5-8262-ff29e1c47fa1",
   "metadata": {},
   "outputs": [
    {
     "name": "stdout",
     "output_type": "stream",
     "text": [
      "[0.    0.01  0.008 0.024 0.012 0.012 0.03  0.03  0.03  0.012 0.03  0.03\n",
      " 0.03  0.03  0.03  0.03  0.03  0.05  0.05  0.07  0.07  0.07  0.07  0.07\n",
      " 0.07 ]\n"
     ]
    }
   ],
   "source": [
    "slatop = clmdt.variables['slatop'][:]\n",
    "print(slatop)"
   ]
  },
  {
   "cell_type": "code",
   "execution_count": 9,
   "id": "8f2e4fe0-fdd0-4575-8b02-838db0e8a570",
   "metadata": {},
   "outputs": [
    {
     "name": "stdout",
     "output_type": "stream",
     "text": [
      "0.02\n"
     ]
    }
   ],
   "source": [
    "r_mort = str(clmdt.variables['r_mort'][:][0])\n",
    "print(r_mort)"
   ]
  },
  {
   "cell_type": "code",
   "execution_count": 13,
   "id": "5b4c54d1-4cca-4f74-894a-56b52772d83c",
   "metadata": {},
   "outputs": [
    {
     "name": "stdout",
     "output_type": "stream",
     "text": [
      "[0.     0.0509 0.042  0.07   0.058  0.0515 0.0716 0.1007 0.1007 0.0517\n",
      " 0.12   0.1365 0.1365 0.1    0.058  0.1    0.1758 0.293  0.293  0.4102\n",
      " 0.4102 0.4102 0.4102 0.4102 0.4102]\n"
     ]
    }
   ],
   "source": [
    "flnr = clmdt.variables['flnr'][:]\n",
    "print(flnr)"
   ]
  },
  {
   "cell_type": "code",
   "execution_count": 12,
   "id": "fbda74da-d834-49e5-8ff3-6b7c3b759a8d",
   "metadata": {},
   "outputs": [
    {
     "name": "stdout",
     "output_type": "stream",
     "text": [
      "[0.0, 0.0509, 0.042, 0.07, 0.058, 0.0515, 0.0716, 0.1007, 0.1007, 0.0517, 0.12, 0.1365, 0.1365, 0.1, 0.058, 0.1, 0.1758, 0.293, 0.293, 0.4102, 0.4102, 0.4102, 0.4102, 0.4102, 0.4102]\n"
     ]
    }
   ],
   "source": [
    "flnr_regular = flnr.tolist()\n",
    "print(flnr_regular)"
   ]
  },
  {
   "cell_type": "code",
   "execution_count": null,
   "id": "a2ca54e5-c25f-4a36-99c3-5d64c3105769",
   "metadata": {},
   "outputs": [],
   "source": []
  },
  {
   "cell_type": "code",
   "execution_count": null,
   "id": "e464c157-7f4a-46ff-ad83-d4ac1cc06c25",
   "metadata": {},
   "outputs": [],
   "source": [
    "\n",
    "\n",
    "    def read_ncfile(self):\n",
    "        # open a NetCDF Dataset object from a .nc file\n",
    "        # the NetCDF Dataset object has a file format of HDF5\n",
    "        clm_dataset = netCDF4.Dataset(clmnc_file)\n",
    "\n",
    "        # access the information from this object\n",
    "        print(clm_dataset.variables.keys()) # get all variable names\n",
    "\n",
    "        # individually access each variable, e.g., slatop variable\n",
    "        slatop = clm_dataset.variables['slatop'][:]\n",
    "        print(slatop)\n",
    "\n",
    "        # check the dimension size of this variable individually\n",
    "        for d in clm_dataset.dimensions.items():\n",
    "            print(d)\n",
    "\n",
    "        # inspect the variables associated with each dimension\n",
    "        pft = clm_dataset.variables['pft']\n",
    "        depth = clm_dataset.variables['Depth']\n",
    "        x,y = clm_dataset.variables['X'], clm_dataset.variables['Y']\n",
    "        print(pft)\n",
    "        print(x)\n",
    "        print(y)\n",
    "        return clm_dataset\n",
    "\n",
    "\n",
    "    def read_necdf4_data(self, cdf_dataset):\n",
    "        \"\"\"\n",
    "        Now, how do we access the data from the NetCDF variables we have just read.\n",
    "        The NetCDF variables behave similarly to NumPy arrays. NetCDF variables can\n",
    "        also be sliced and masked.\n",
    "        \"\"\"\n",
    "        # Let us first read the data of the variable “MT”:\n",
    "        time = mt[:]\n",
    "        print(time)\n",
    " \n",
    "        # Similarly, for the depth array:\n",
    "        dpth = depth[:]\n",
    "        print(depth.shape)\n",
    "        print(depth.dimensions)\n",
    "        print(dpth)\n",
    " \n",
    "        # apply conditionals on the slicing of the netCDF variable:\n",
    "        xx,yy = x[:],y[:]\n",
    "        print('shape of temp variable: %s' % repr(temp.shape))\n",
    "        tempslice = temp[0, dpth > 400, yy > yy.max()/2, xx > xx.max()/2]\n",
    "        print('shape of temp slice: %s' % repr(tempslice.shape))\n",
    "\n",
    "\n",
    "    def write_necdf4_data_to_newfile(self, cdf_dataset):\n",
    "        # create a new empty netCDF file named “new.nc” in the {path} ../../data directory and open it for writing.\n",
    "        ncfile = netCDF4.Dataset('../../data/new.nc',mode='w',format='NETCDF4_CLASSIC')\n",
    "        print(ncfile)\n",
    "\n",
    "        # We can now fill the netCDF files opened with the dimensions, variables, and attributes.\n",
    "        # First of all, let’s create the dimension."
   ]
  }
 ],
 "metadata": {
  "kernelspec": {
   "display_name": "Python 3 (ipykernel)",
   "language": "python",
   "name": "python3"
  },
  "language_info": {
   "codemirror_mode": {
    "name": "ipython",
    "version": 3
   },
   "file_extension": ".py",
   "mimetype": "text/x-python",
   "name": "python",
   "nbconvert_exporter": "python",
   "pygments_lexer": "ipython3",
   "version": "3.11.3"
  }
 },
 "nbformat": 4,
 "nbformat_minor": 5
}
