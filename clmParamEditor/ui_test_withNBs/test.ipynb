{
 "cells": [
  {
   "cell_type": "code",
   "execution_count": 1,
   "id": "c0c51908-1332-430e-846b-55dbdba77c66",
   "metadata": {},
   "outputs": [
    {
     "data": {
      "application/vnd.jupyter.widget-view+json": {
       "model_id": "9764faba5afc480a9b6246faf1efa2bf",
       "version_major": 2,
       "version_minor": 0
      },
      "text/plain": [
       "EditCLMParamWidget(flnr=[0.0, 0.0509, 0.042, 0.07, 0.058, 0.0515, 0.0716, 0.1007, 0.1007, 0.0517, 0.12, 0.1365…"
      ]
     },
     "execution_count": 1,
     "metadata": {},
     "output_type": "execute_result"
    }
   ],
   "source": [
    "import clmParamEditor as clm_editor\n",
    "edit_clm = clm_editor.EditCLMParamWidget()\n",
    "edit_clm"
   ]
  },
  {
   "cell_type": "code",
   "execution_count": 3,
   "id": "c7605fe9-588f-4994-b4e9-a28bbb379001",
   "metadata": {},
   "outputs": [
    {
     "name": "stdout",
     "output_type": "stream",
     "text": [
      "[0.    1.    2.    0.024 0.012 0.012 0.03  0.03  0.03  0.012 0.03  0.03\n",
      " 0.03  0.03  0.03  0.03  0.03  0.05  0.05  0.07  0.07  0.07  0.07  0.07\n",
      " 0.07 ]\n",
      "[0.     1.     2.     0.07   0.058  0.0515 0.0716 0.1007 0.1007 0.0517\n",
      " 0.12   0.1365 0.1365 0.1    0.058  0.1    0.1758 0.293  0.293  0.4102\n",
      " 0.4102 0.4102 0.4102 0.4102 0.4102]\n",
      "[ 1.  1.  2. 42. 42. 42. 42. 42. 42. 42. 42. 42. 42. 42. 42. 42. 42. 42.\n",
      " 42. 42. 42. 42. 42. 42. 42.]\n",
      "[0.    1.    2.    0.5   0.794 1.    1.    1.    1.    2.    1.    2.\n",
      " 2.    2.    2.    2.    2.    2.    2.    2.    2.    2.    2.    2.\n",
      " 2.   ]\n",
      "[ 1.  1.  2. 25. 30. 30. 25. 25. 25. 30. 25. 25. 25. 25. 25. 25. 25. 25.\n",
      " 25. 25. 25. 25. 25. 25. 25.]\n",
      "0.05\n"
     ]
    }
   ],
   "source": [
    "import netCDF4\n",
    "clmdt = netCDF4.Dataset('data/clm_params_files/new_clm_file.nc')\n",
    "\n",
    "slatop = clmdt.variables['slatop'][:]\n",
    "flnr = clmdt.variables['flnr'][:]\n",
    "frootcn = clmdt.variables['frootcn'][:]\n",
    "froot_leaf = clmdt.variables['froot_leaf'][:]\n",
    "leafcn = clmdt.variables['leafcn'][:]\n",
    "r_mort = clmdt.variables['r_mort'][:][0]\n",
    "print(slatop)\n",
    "print(flnr)\n",
    "print(frootcn)\n",
    "print(froot_leaf)\n",
    "print(leafcn)\n",
    "print(str(r_mort))\n",
    "clmdt.close()"
   ]
  },
  {
   "cell_type": "code",
   "execution_count": null,
   "id": "d0326f56-dd0a-4c97-b004-bcb4c8e3c1c0",
   "metadata": {},
   "outputs": [],
   "source": []
  }
 ],
 "metadata": {
  "kernelspec": {
   "display_name": "Python 3 (ipykernel)",
   "language": "python",
   "name": "python3"
  },
  "language_info": {
   "codemirror_mode": {
    "name": "ipython",
    "version": 3
   },
   "file_extension": ".py",
   "mimetype": "text/x-python",
   "name": "python",
   "nbconvert_exporter": "python",
   "pygments_lexer": "ipython3",
   "version": "3.11.3"
  }
 },
 "nbformat": 4,
 "nbformat_minor": 5
}
