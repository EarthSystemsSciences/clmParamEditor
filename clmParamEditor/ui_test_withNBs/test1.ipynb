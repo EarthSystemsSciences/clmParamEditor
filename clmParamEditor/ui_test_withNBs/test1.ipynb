{
 "cells": [
  {
   "cell_type": "code",
   "execution_count": 1,
   "id": "b8a42347-9f38-49e1-b307-868fd1ca9166",
   "metadata": {},
   "outputs": [
    {
     "name": "stdout",
     "output_type": "stream",
     "text": [
      "initializing the widget...\n",
      "clm file to be read: ./data/clm_params_files/clm_params_c180312.nc\n",
      "[ 1. 35. 40. 25. 30. 30. 25. 25. 25. 30. 25. 25. 25. 25. 25. 25. 25. 25.\n",
      " 25. 25. 25. 25. 25. 25. 25.]\n"
     ]
    },
    {
     "data": {
      "application/vnd.jupyter.widget-view+json": {
       "model_id": "335e1bdf7b6b433f8352c607b75ea0a6",
       "version_major": 2,
       "version_minor": 0
      },
      "text/plain": [
       "EditCLMParamWidget(flnr=[0.0, 0.0509, 0.042, 0.07, 0.058, 0.0515, 0.0716, 0.1007, 0.1007, 0.0517, 0.12, 0.1365…"
      ]
     },
     "execution_count": 1,
     "metadata": {},
     "output_type": "execute_result"
    }
   ],
   "source": [
    "import clmParamEditor as clm_editor\n",
    "edit_clm = clm_editor.EditCLMParamWidget()\n",
    "edit_clm"
   ]
  },
  {
   "cell_type": "code",
   "execution_count": null,
   "id": "480942aa-e4a7-419a-a52f-9d8536d846f0",
   "metadata": {},
   "outputs": [],
   "source": []
  }
 ],
 "metadata": {
  "kernelspec": {
   "display_name": "Python 3 (ipykernel)",
   "language": "python",
   "name": "python3"
  },
  "language_info": {
   "codemirror_mode": {
    "name": "ipython",
    "version": 3
   },
   "file_extension": ".py",
   "mimetype": "text/x-python",
   "name": "python",
   "nbconvert_exporter": "python",
   "pygments_lexer": "ipython3",
   "version": "3.11.3"
  }
 },
 "nbformat": 4,
 "nbformat_minor": 5
}
