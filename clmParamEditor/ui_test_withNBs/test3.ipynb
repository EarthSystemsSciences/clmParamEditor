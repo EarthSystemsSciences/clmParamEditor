{
 "cells": [
  {
   "cell_type": "code",
   "execution_count": 1,
   "id": "e0d8f896-7298-41a1-9c4c-ec600d66946a",
   "metadata": {},
   "outputs": [
    {
     "name": "stdout",
     "output_type": "stream",
     "text": [
      "initializing the widget...\n",
      "clm file to be read: ./data/clm_params_files/clm_params_c180312.nc\n",
      "[ 1. 35. 40. 25. 30. 30. 25. 25. 25. 30. 25. 25. 25. 25. 25. 25. 25. 25.\n",
      " 25. 25. 25. 25. 25. 25. 25.]\n"
     ]
    },
    {
     "data": {
      "application/vnd.jupyter.widget-view+json": {
       "model_id": "a5b971d005c345f08dcda38d3f1c6368",
       "version_major": 2,
       "version_minor": 0
      },
      "text/plain": [
       "EditCLMParamWidget(flnr=[0.0, 0.0509, 0.042, 0.07, 0.058, 0.0515, 0.0716, 0.1007, 0.1007, 0.0517, 0.12, 0.1365…"
      ]
     },
     "execution_count": 1,
     "metadata": {},
     "output_type": "execute_result"
    }
   ],
   "source": [
    "import clmParamEditor as clm_editor\n",
    "edit_clm = clm_editor.EditCLMParamWidget()\n",
    "edit_clm"
   ]
  },
  {
   "cell_type": "code",
   "execution_count": null,
   "id": "b478709d-d3f7-4929-ab59-fb4014d7ac6e",
   "metadata": {},
   "outputs": [],
   "source": []
  }
 ],
 "metadata": {
  "kernelspec": {
   "display_name": "Python 3 (ipykernel)",
   "language": "python",
   "name": "python3"
  },
  "language_info": {
   "codemirror_mode": {
    "name": "ipython",
    "version": 3
   },
   "file_extension": ".py",
   "mimetype": "text/x-python",
   "name": "python",
   "nbconvert_exporter": "python",
   "pygments_lexer": "ipython3",
   "version": "3.11.3"
  }
 },
 "nbformat": 4,
 "nbformat_minor": 5
}
